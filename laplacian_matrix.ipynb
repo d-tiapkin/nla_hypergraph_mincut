{
  "nbformat": 4,
  "nbformat_minor": 0,
  "metadata": {
    "colab": {
      "name": "MinCut.ipynb",
      "provenance": [],
      "collapsed_sections": []
    },
    "kernelspec": {
      "name": "python3",
      "display_name": "Python 3"
    },
    "language_info": {
      "name": "python"
    }
  },
  "cells": [
    {
      "cell_type": "code",
      "source": [
        "!pip install hypernetx\n",
        "!pip install celluloid\n",
        "!pip install igraph"
      ],
      "metadata": {
        "colab": {
          "base_uri": "https://localhost:8080/"
        },
        "id": "PwGAC2NJZ46l",
        "outputId": "b6d1f7b2-e40c-4301-fb7e-d976bfe57ab6"
      },
      "execution_count": null,
      "outputs": [
        {
          "output_type": "stream",
          "name": "stdout",
          "text": [
            "Requirement already satisfied: hypernetx in /usr/local/lib/python3.7/dist-packages (1.2)\n",
            "Requirement already satisfied: pandas>=0.23 in /usr/local/lib/python3.7/dist-packages (from hypernetx) (1.1.5)\n",
            "Requirement already satisfied: matplotlib>3.0 in /usr/local/lib/python3.7/dist-packages (from hypernetx) (3.2.2)\n",
            "Requirement already satisfied: scikit-learn>=0.20.0 in /usr/local/lib/python3.7/dist-packages (from hypernetx) (1.0.1)\n",
            "Requirement already satisfied: networkx<3.0,>=2.2 in /usr/local/lib/python3.7/dist-packages (from hypernetx) (2.6.3)\n",
            "Requirement already satisfied: numpy<2.0,>=1.15.0 in /usr/local/lib/python3.7/dist-packages (from hypernetx) (1.19.5)\n",
            "Requirement already satisfied: scipy<2.0,>=1.1.0 in /usr/local/lib/python3.7/dist-packages (from hypernetx) (1.4.1)\n",
            "Requirement already satisfied: python-dateutil>=2.1 in /usr/local/lib/python3.7/dist-packages (from matplotlib>3.0->hypernetx) (2.8.2)\n",
            "Requirement already satisfied: cycler>=0.10 in /usr/local/lib/python3.7/dist-packages (from matplotlib>3.0->hypernetx) (0.11.0)\n",
            "Requirement already satisfied: kiwisolver>=1.0.1 in /usr/local/lib/python3.7/dist-packages (from matplotlib>3.0->hypernetx) (1.3.2)\n",
            "Requirement already satisfied: pyparsing!=2.0.4,!=2.1.2,!=2.1.6,>=2.0.1 in /usr/local/lib/python3.7/dist-packages (from matplotlib>3.0->hypernetx) (3.0.6)\n",
            "Requirement already satisfied: pytz>=2017.2 in /usr/local/lib/python3.7/dist-packages (from pandas>=0.23->hypernetx) (2018.9)\n",
            "Requirement already satisfied: six>=1.5 in /usr/local/lib/python3.7/dist-packages (from python-dateutil>=2.1->matplotlib>3.0->hypernetx) (1.15.0)\n",
            "Requirement already satisfied: joblib>=0.11 in /usr/local/lib/python3.7/dist-packages (from scikit-learn>=0.20.0->hypernetx) (1.1.0)\n",
            "Requirement already satisfied: threadpoolctl>=2.0.0 in /usr/local/lib/python3.7/dist-packages (from scikit-learn>=0.20.0->hypernetx) (3.0.0)\n",
            "Requirement already satisfied: celluloid in /usr/local/lib/python3.7/dist-packages (0.2.0)\n",
            "Requirement already satisfied: matplotlib in /usr/local/lib/python3.7/dist-packages (from celluloid) (3.2.2)\n",
            "Requirement already satisfied: numpy>=1.11 in /usr/local/lib/python3.7/dist-packages (from matplotlib->celluloid) (1.19.5)\n",
            "Requirement already satisfied: python-dateutil>=2.1 in /usr/local/lib/python3.7/dist-packages (from matplotlib->celluloid) (2.8.2)\n",
            "Requirement already satisfied: cycler>=0.10 in /usr/local/lib/python3.7/dist-packages (from matplotlib->celluloid) (0.11.0)\n",
            "Requirement already satisfied: pyparsing!=2.0.4,!=2.1.2,!=2.1.6,>=2.0.1 in /usr/local/lib/python3.7/dist-packages (from matplotlib->celluloid) (3.0.6)\n",
            "Requirement already satisfied: kiwisolver>=1.0.1 in /usr/local/lib/python3.7/dist-packages (from matplotlib->celluloid) (1.3.2)\n",
            "Requirement already satisfied: six>=1.5 in /usr/local/lib/python3.7/dist-packages (from python-dateutil>=2.1->matplotlib->celluloid) (1.15.0)\n",
            "Requirement already satisfied: igraph in /usr/local/lib/python3.7/dist-packages (0.9.8)\n",
            "Requirement already satisfied: texttable>=1.6.2 in /usr/local/lib/python3.7/dist-packages (from igraph) (1.6.4)\n"
          ]
        }
      ]
    },
    {
      "cell_type": "code",
      "execution_count": null,
      "metadata": {
        "id": "sqple-s4Tslm"
      },
      "outputs": [],
      "source": [
        "import matplotlib.pyplot as plt\n",
        "import networkx as nx\n",
        "import hypernetx as hnx\n",
        "\n",
        "import itertools\n",
        "import numpy as np\n",
        "import scipy.special\n",
        "\n",
        "import numba"
      ]
    },
    {
      "cell_type": "code",
      "source": [
        "def generate_H(n, k):\n",
        "    H = dict()\n",
        "    i = 0\n",
        "    alpha = 20 / n**2\n",
        "    p = 3/4\n",
        "    q = 1 - p\n",
        "    for edge in itertools.combinations(range(n//2), k):\n",
        "        coin = np.random.binomial(1, p * alpha)\n",
        "        if coin:\n",
        "            H[i] = edge\n",
        "            H[i] = list(map(str, H[i]))\n",
        "            i += 1\n",
        "    \n",
        "    for edge in itertools.combinations(range(n//2, n), k):\n",
        "        coin = np.random.binomial(1, p * alpha)\n",
        "        if coin:\n",
        "            H[i] = edge\n",
        "            H[i] = list(map(str, H[i]))\n",
        "            i += 1\n",
        "\n",
        "    for edge1 in itertools.combinations(range(n//2), k//2):\n",
        "        for edge2 in itertools.combinations(range(n//2, n), k//2):\n",
        "            coin = np.random.binomial(1, q * alpha)\n",
        "            if coin:\n",
        "                H[i] = edge1 + edge2\n",
        "                H[i] = list(map(str, H[i]))\n",
        "                i += 1\n",
        "\n",
        "    return H"
      ],
      "metadata": {
        "id": "OsdpDWneZoBL"
      },
      "execution_count": null,
      "outputs": []
    },
    {
      "cell_type": "code",
      "source": [
        "def ComputeSimilarityMatrix(n, d, edges, c):\n",
        "    A = np.zeros((n, n))\n",
        "    for i in range(n):\n",
        "        for j in range(i, n):\n",
        "            weight = 0\n",
        "            if i != j:\n",
        "                for idx in edges:\n",
        "                    edge = edges[idx]\n",
        "                    if (str(i) in edge) and (str(j) in edge):\n",
        "                        weight += 1\n",
        "\n",
        "            A[i, j] = weight\n",
        "            A[j, i] = weight\n",
        "\n",
        "    A0 = A.copy()\n",
        "    A0[A.sum(-1) > (c / n) * A.sum()] = np.zeros((1, n))\n",
        "    A0[:, A.sum(0) > (c / n) * A.sum()] = np.zeros((n, 1))\n",
        "    return A0"
      ],
      "metadata": {
        "id": "L8NYGw3-v8Jr"
      },
      "execution_count": null,
      "outputs": []
    },
    {
      "cell_type": "code",
      "source": [
        "d = 4\n",
        "n = 30\n",
        "edges = generate_H(n, d)"
      ],
      "metadata": {
        "id": "ic24PZ0obGSs"
      },
      "execution_count": null,
      "outputs": []
    },
    {
      "cell_type": "code",
      "source": [
        "H = hnx.Hypergraph(edges)\n",
        "hnx.draw(H)"
      ],
      "metadata": {
        "id": "hKpk56H-uPdf"
      },
      "execution_count": null,
      "outputs": []
    },
    {
      "cell_type": "code",
      "source": [
        "A0 = ComputeSimilarityMatrix(n, d, edges, 6)"
      ],
      "metadata": {
        "id": "QvnC-bmy3sR0"
      },
      "execution_count": null,
      "outputs": []
    },
    {
      "cell_type": "code",
      "source": [
        "from scipy.linalg import eigh\n",
        "from scipy.cluster.vq import vq, kmeans, whiten\n",
        "from sklearn.cluster import KMeans\n",
        "from sklearn.preprocessing import StandardScaler\n",
        "\n",
        "def HSC(A):\n",
        "    ''' \n",
        "        A - processed similarity matrix\n",
        "    '''\n",
        "\n",
        "    w, v = eigh(A)\n",
        "    U = v[:, -2:]\n",
        "    # scaler = StandardScaler()\n",
        "    # scaled_features = scaler.fit_transform(U)\n",
        "    kmeans = KMeans(n_clusters=2, max_iter=1000, tol=1e-6, random_state=0).fit(U)\n",
        "    return kmeans.labels_\n",
        "\n",
        "def compute_metrics(n, labels):\n",
        "    acc1 = (labels[:n//2] == 1).sum() / n\n",
        "    acc2 = (labels[n//2:] == 0).sum() / n\n",
        "\n",
        "    return acc1 + acc2"
      ],
      "metadata": {
        "id": "LLVSTNwbtDwc"
      },
      "execution_count": null,
      "outputs": []
    },
    {
      "cell_type": "code",
      "source": [
        "labels = HSC(A0)"
      ],
      "metadata": {
        "id": "sRYVaWAmvNUF"
      },
      "execution_count": null,
      "outputs": []
    },
    {
      "cell_type": "code",
      "source": [
        "compute_metrics(n, labels)"
      ],
      "metadata": {
        "colab": {
          "base_uri": "https://localhost:8080/"
        },
        "id": "s6M47hzS-vvr",
        "outputId": "1aec2a0b-0698-4d4b-dd83-cbd9169663bb"
      },
      "execution_count": null,
      "outputs": [
        {
          "output_type": "execute_result",
          "data": {
            "text/plain": [
              "0.06666666666666667"
            ]
          },
          "metadata": {},
          "execution_count": 725
        }
      ]
    },
    {
      "cell_type": "code",
      "source": [
        "def GenerateHWeighted(n, k, p, q, alpha):\n",
        "    H = list()\n",
        "    W = list()\n",
        "    i = 0\n",
        "    # alpha = 7 * np.log(n) / n**2\n",
        "    # p = 3/4\n",
        "    # q = 1 - p\n",
        "    for edge in itertools.combinations(range(n//2), k):\n",
        "        coin = p * np.random.binomial(1, alpha)\n",
        "        if coin:\n",
        "            H.append(list(edge))\n",
        "            W.append(coin)\n",
        "            i += 1\n",
        "    \n",
        "    for edge in itertools.combinations(range(n//2, n), k):\n",
        "        coin = p * np.random.binomial(1, alpha)\n",
        "        if coin:\n",
        "            H.append(list(edge))\n",
        "            W.append(coin)\n",
        "            i += 1\n",
        "\n",
        "    for edge1 in itertools.combinations(range(n//2), k//2):\n",
        "        for edge2 in itertools.combinations(range(n//2, n), k//2):\n",
        "            coin = q * np.random.binomial(1, alpha)\n",
        "            if coin:\n",
        "                H.append(list(edge1) + list(edge2))\n",
        "                W.append(coin)\n",
        "                i += 1\n",
        "\n",
        "    return H, W"
      ],
      "metadata": {
        "id": "i1CmjGagsLYC"
      },
      "execution_count": null,
      "outputs": []
    },
    {
      "cell_type": "code",
      "source": [
        "def ComputeSimilarityMatrixWeighted(n, d, edges, W, c):\n",
        "    A = np.zeros((n, n))\n",
        "    for i in range(n):\n",
        "        for j in range(i, n):\n",
        "            weight = 0\n",
        "            if i != j:\n",
        "                for idx in range(len(edges)):\n",
        "                    edge = edges[idx]\n",
        "                    if (i in edge) and (j in edge):\n",
        "                        weight += W[idx]\n",
        "\n",
        "            A[i, j] = weight\n",
        "            A[j, i] = weight\n",
        "\n",
        "    A0 = A.copy()\n",
        "    A0[A.sum(-1) > (c / n) * A.sum()] = np.zeros((1, n))\n",
        "    A0[:, A.sum(0) > (c / n) * A.sum()] = np.zeros((n, 1))\n",
        "    return A0"
      ],
      "metadata": {
        "id": "r4K0-KImsbG1"
      },
      "execution_count": null,
      "outputs": []
    },
    {
      "cell_type": "code",
      "source": [
        "def HSCLR(n, edges, W, beta):\n",
        "    E1 = list()\n",
        "    E2 = list()\n",
        "    W1 = list()\n",
        "    W2 = list()\n",
        "\n",
        "    for idx in range(len(edges)):\n",
        "        edge = edges[idx]\n",
        "        coin = np.random.binomial(1, beta)\n",
        "        if coin:\n",
        "            E1.append(edge)\n",
        "            W1.append(W[idx])\n",
        "        else:\n",
        "            E2.append(edge)\n",
        "            W2.append(W[idx])\n",
        "\n",
        "    A0 = ComputeSimilarityMatrixWeighted(n, d, E1, W1, 6)\n",
        "    labels = HSC(A0)\n",
        "    res_labels = np.zeros(labels.size)\n",
        "    for i in range(n):\n",
        "        mx_label = labels[i]\n",
        "        mx_val = -1e9\n",
        "        for label in range(2):\n",
        "            weight = 0\n",
        "            cnt_elems = 0\n",
        "            for idx in range(len(E2)):\n",
        "                edge = E2[idx]\n",
        "                if i not in edge:\n",
        "                    continue\n",
        "\n",
        "                flag = True\n",
        "                for t in edge:\n",
        "                    if (t != i) and (labels[t] == label):\n",
        "                        continue\n",
        "                    \n",
        "                    flag = False\n",
        "                \n",
        "                if flag:\n",
        "                    cnt_elems += 1\n",
        "                    weight += W2[idx]\n",
        "            \n",
        "            if cnt_elems and weight / cnt_elems > mx_val:\n",
        "                print('!!!!!!!!!')\n",
        "                mx_val = weight / cnt_elems\n",
        "                mx_label = label\n",
        "        \n",
        "        res_labels[i] = mx_label\n",
        "\n",
        "    return res_labels"
      ],
      "metadata": {
        "id": "hy1g_aISGqVX"
      },
      "execution_count": null,
      "outputs": []
    },
    {
      "cell_type": "code",
      "source": [
        "alphas = np.linspace(1, 12, 10)\n",
        "betas = np.linspace(1, 12, 10) + 2\n",
        "vals = np.zeros((10, 10))\n",
        "d = 4\n",
        "n = 50\n",
        "for i, alpha in enumerate(alphas):\n",
        "    print(i)\n",
        "    for j, beta in enumerate(betas):\n",
        "        p = alpha * (np.log(n) / n)\n",
        "        q = beta * (np.log(n) / n)\n",
        "        cnst = (p * 16) / (p - q)**2\n",
        "        best_alpha = cnst * np.log(n) / n**3\n",
        "        edges, W = GenerateHWeighted(n, d, p, q, best_alpha)\n",
        "        labels = HSCLR(n, edges, W, np.log(np.log(n)) / np.log(n))\n",
        "        vals[i, j] = compute_metrics(n, labels)\n",
        "        if vals[i, j] < 0.5:\n",
        "            vals[i, j] = 1 - vals[i, j]"
      ],
      "metadata": {
        "colab": {
          "base_uri": "https://localhost:8080/"
        },
        "id": "9gqdI76SCqwg",
        "outputId": "7ed4caa2-7256-443d-aefd-391c23f6fa8e"
      },
      "execution_count": null,
      "outputs": [
        {
          "output_type": "stream",
          "name": "stdout",
          "text": [
            "0\n",
            "1\n",
            "2\n",
            "3\n",
            "4\n",
            "5\n",
            "6\n",
            "7\n",
            "8\n",
            "9\n"
          ]
        }
      ]
    },
    {
      "cell_type": "code",
      "source": [
        "import seaborn as sns\n",
        "import matplotlib.pylab as plt\n",
        "\n",
        "xlabels = ['{:,.2f}'.format(b) for b in betas]\n",
        "ylabels = ['{:,.2f}'.format(a) for a in alphas]\n",
        "x_axis_labels = xlabels\n",
        "y_axis_labels = ylabels\n",
        "ax = sns.heatmap(vals, xticklabels=x_axis_labels, yticklabels=y_axis_labels, linewidth=0.5)\n",
        "ax.set(xlabel='betas', ylabel='alphas')\n",
        "ax.figure.savefig('heatmap')"
      ],
      "metadata": {
        "colab": {
          "base_uri": "https://localhost:8080/",
          "height": 497
        },
        "id": "H_OqmHvxE2vY",
        "outputId": "812d6175-4f43-4a12-f00c-ed772b4f9e73"
      },
      "execution_count": null,
      "outputs": [
        {
          "output_type": "display_data",
          "data": {
            "image/png": "[encoded data removed]",
            "text/plain": [
              "<Figure size 576x576 with 2 Axes>"
            ]
          },
          "metadata": {
            "needs_background": "light"
          }
        }
      ]
    },
    {
      "cell_type": "code",
      "source": [
        "d = 4\n",
        "n = 50\n",
        "p = 3/4\n",
        "q = 1/4\n",
        "cnst = (p * 16) / (p - q)**2\n",
        "best_alpha = cnst * np.log(n) / n**3\n",
        "print(best_alpha)\n",
        "alphas = np.linspace(0, 0.03, 30)\n",
        "metrics = list()\n",
        "for alpha in alphas:\n",
        "    print(alpha)\n",
        "    edges, W = GenerateHWeighted(n, d, p, q, alpha)\n",
        "    labels = HSCLR(n, edges, W, np.log(np.log(n)) / np.log(n))\n",
        "    metric = compute_metrics(n, labels)\n",
        "    if metric < 0.5:\n",
        "        metric = 1 - metric\n",
        "    metrics.append(metric)"
      ],
      "metadata": {
        "colab": {
          "base_uri": "https://localhost:8080/"
        },
        "id": "dCPqj90oItla",
        "outputId": "21eb62be-0cee-41a2-f89d-366f1473d23c"
      },
      "execution_count": null,
      "outputs": [
        {
          "output_type": "stream",
          "name": "stdout",
          "text": [
            "0.0015022168340844079\n",
            "0.0\n",
            "0.0010344827586206897\n",
            "0.0020689655172413794\n",
            "0.0031034482758620693\n",
            "0.004137931034482759\n",
            "0.005172413793103448\n",
            "0.0062068965517241385\n",
            "0.007241379310344828\n",
            "0.008275862068965517\n",
            "0.009310344827586208\n",
            "0.010344827586206896\n",
            "0.011379310344827587\n",
            "0.012413793103448277\n",
            "0.013448275862068966\n",
            "0.014482758620689656\n",
            "0.015517241379310345\n",
            "0.016551724137931035\n",
            "0.017586206896551725\n",
            "0.018620689655172416\n",
            "0.019655172413793102\n",
            "0.020689655172413793\n",
            "0.021724137931034483\n",
            "0.022758620689655173\n",
            "0.023793103448275864\n",
            "0.024827586206896554\n",
            "0.02586206896551724\n",
            "0.02689655172413793\n",
            "0.02793103448275862\n",
            "0.028965517241379312\n",
            "0.03\n"
          ]
        }
      ]
    },
    {
      "cell_type": "code",
      "source": [
        "plt.plot(alphas, metrics, 'r', label='algorithm accuracy')\n",
        "plt.axvline(x=best_alpha)\n",
        "plt.vlines(x=best_alpha, ymin=0.5, ymax=1, color='green', ls=':', lw=2, label='best_alpha')\n",
        "plt.xlabel('alpha')\n",
        "plt.ylabel('accuracy')\n",
        "plt.grid(True)\n",
        "plt.legend()\n",
        "plt.savefig('accuracy_thres')\n",
        "# plt.show()"
      ],
      "metadata": {
        "colab": {
          "base_uri": "https://localhost:8080/",
          "height": 497
        },
        "id": "O9nn_QRZL3cH",
        "outputId": "2a0fe59b-b8fc-4fc8-a33d-274683e74195"
      },
      "execution_count": null,
      "outputs": [
        {
          "output_type": "display_data",
          "data": {
            "image/png": "[encoded data removed]",
            "text/plain": [
              "<Figure size 576x576 with 1 Axes>"
            ]
          },
          "metadata": {
            "needs_background": "light"
          }
        }
      ]
    },
    {
      "cell_type": "code",
      "source": [
        "import tensor\n",
        "import tensor_utils\n",
        "\n",
        "d = 4\n",
        "n = 100\n",
        "p = 3/4\n",
        "q = 1/4\n",
        "cnst = (p * 16) / (p - q)**2\n",
        "best_alpha = cnst * np.log(n) / n**2\n",
        "score_dan = 0\n",
        "score_my = 0\n",
        "for i in range(10):\n",
        "    print(i)\n",
        "    edges, W = GenerateHWeighted(n, d, p, q, best_alpha)\n",
        "    labels_my = HSCLR(n, edges, W, np.log(np.log(n)) / np.log(n))\n",
        "    np.save('edges' + str(i), edges)\n",
        "    np.save('weights' + str(i), W)\n",
        "    my = compute_metrics(n, labels_my)\n",
        "    if my < 0.5:\n",
        "        my = 1 - my\n",
        "    edges = np.array(edges)\n",
        "    W = np.array(W)\n",
        "    X, _, _ = tensor.laplacian_tensor_clustering(edges, W, n)\n",
        "    labels_danya = tensor.get_clusters(X)\n",
        "    dan = compute_metrics(n, labels_my)\n",
        "    if dan < 0.5:\n",
        "        dan = 1 - dan\n",
        "\n",
        "    score_dan += dan\n",
        "    score_my += my\n",
        "\n",
        "print('Accuracy for laplacian_tensor_clustering:', score_dan / 10)\n",
        "print('Accuracy for HSCLR:', score_my / 10)"
      ],
      "metadata": {
        "colab": {
          "base_uri": "https://localhost:8080/"
        },
        "id": "43h_ayv6Mq7L",
        "outputId": "38cd2708-98b2-443b-a671-38a631ad3947"
      },
      "execution_count": null,
      "outputs": [
        {
          "output_type": "stream",
          "name": "stdout",
          "text": [
            "0\n",
            "1\n",
            "2\n",
            "3\n",
            "4\n",
            "5\n",
            "6\n",
            "7\n",
            "8\n",
            "9\n",
            "Accuracy for laplacian_tensor_clustering: 1.0\n",
            "Accuracy for HSCLR: 1.0\n"
          ]
        }
      ]
    },
    {
      "cell_type": "code",
      "source": [
        "import tensor\n",
        "import tensor_utils\n",
        "\n",
        "d = 4\n",
        "n = 100\n",
        "p = 0.2763102111592855\n",
        "q = 0.9210340371976184\n",
        "cnst = (p * 16) / (p - q)**2\n",
        "best_alpha = cnst * np.log(n) / n**2\n",
        "score_dan = 0\n",
        "score_my = 0\n",
        "for i in range(10):\n",
        "    print(i)\n",
        "    edges, W = GenerateHWeighted(n, d, p, q, best_alpha)\n",
        "    labels_my = HSCLR(n, edges, W, np.log(np.log(n)) / np.log(n))\n",
        "    np.save('edges' + str(i), edges)\n",
        "    np.save('weights' + str(i), W)\n",
        "    my = compute_metrics(n, labels_my)\n",
        "    if my < 0.5:\n",
        "        my = 1 - my\n",
        "    edges = np.array(edges)\n",
        "    W = np.array(W)\n",
        "    X, _, _ = tensor.laplacian_tensor_clustering(edges, W, n)\n",
        "    labels_danya = tensor.get_clusters(X)\n",
        "    dan = compute_metrics(n, labels_my)\n",
        "    if dan < 0.5:\n",
        "        dan = 1 - dan\n",
        "\n",
        "    score_dan += dan\n",
        "    score_my += my\n",
        "\n",
        "print('Accuracy for laplacian_tensor_clustering:', score_dan / 10)\n",
        "print('Accuracy for HSCLR:', score_my / 10)"
      ],
      "metadata": {
        "colab": {
          "base_uri": "https://localhost:8080/"
        },
        "id": "LfxWMHxoaKW0",
        "outputId": "e55b2b7a-25ae-410d-f103-07ac8d3d4304"
      },
      "execution_count": null,
      "outputs": [
        {
          "output_type": "stream",
          "name": "stdout",
          "text": [
            "0\n",
            "1\n",
            "2\n",
            "3\n",
            "4\n",
            "5\n",
            "6\n",
            "7\n",
            "8\n",
            "9\n",
            "Accuracy for laplacian_tensor_clustering: 0.5499999999999999\n",
            "Accuracy for HSCLR: 0.5499999999999999\n"
          ]
        }
      ]
    },
    {
      "cell_type": "code",
      "source": [
        ""
      ],
      "metadata": {
        "id": "7__Oi38faRQH"
      },
      "execution_count": null,
      "outputs": []
    }
  ]
}