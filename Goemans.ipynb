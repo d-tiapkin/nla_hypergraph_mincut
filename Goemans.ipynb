{
  "cells": [
    {
      "cell_type": "code",
      "source": [
        ""
      ],
      "metadata": {
        "id": "w-ng0RVr1Cjl"
      },
      "execution_count": null,
      "outputs": []
    },
    {
      "cell_type": "code",
      "execution_count": 2,
      "metadata": {
        "id": "IQzkBnMq0F8s"
      },
      "outputs": [],
      "source": [
        "import matplotlib.pyplot as plt\n",
        "import networkx as nx\n",
        "\n",
        "import itertools\n",
        "import numpy as np\n",
        "import scipy.special\n",
        "import cvxpy as cp"
      ]
    },
    {
      "cell_type": "code",
      "execution_count": 3,
      "metadata": {
        "id": "n8Cp5PnN0F8u"
      },
      "outputs": [],
      "source": [
        "def is_cutting_partition(edge, k):\n",
        "    flag_min = True\n",
        "    flag_max = True\n",
        "    for v in edge:\n",
        "        if v >= k:\n",
        "            flag_min = False\n",
        "        if v < k:\n",
        "            flag_max = False\n",
        "    return flag_max or flag_min"
      ]
    },
    {
      "cell_type": "code",
      "execution_count": 4,
      "metadata": {
        "id": "dqPsbAFB0F8u"
      },
      "outputs": [],
      "source": [
        "def generate_H(n, k, p, q):\n",
        "    H = dict()\n",
        "    i = 0\n",
        "    for edge in itertools.combinations(range(n), k): \n",
        "        # the partition is like this: first n / 2 vertices vs last n/2 vertices.\n",
        "        if is_cutting_partition(edge, n/2):\n",
        "            coin = np.random.binomial(1, p)\n",
        "        else:\n",
        "            coin = np.random.binomial(1, q)\n",
        "        if coin:\n",
        "            H[i] = edge\n",
        "            H[i] = list(map(str, H[i]))\n",
        "            i += 1\n",
        "    return H"
      ]
    },
    {
      "cell_type": "code",
      "execution_count": 5,
      "metadata": {
        "id": "2bP9csMM0F8v"
      },
      "outputs": [],
      "source": [
        "def generate_H_matrix(n, k, p, q):\n",
        "    size = [n for i in range(k)]\n",
        "    H = np.zeros(size)\n",
        "    for edge in itertools.combinations(range(n), k): \n",
        "        # the partition is like this: first n / 2 vertices vs last n/2 vertices.\n",
        "        if is_cutting_partition(edge, n/2):\n",
        "            coin = np.random.binomial(1, p)\n",
        "        else:\n",
        "            coin = np.random.binomial(1, q)\n",
        "        if coin:\n",
        "            for subedge in itertools.permutations(edge):\n",
        "                H[subedge] = 1\n",
        "    return H"
      ]
    },
    {
      "cell_type": "code",
      "execution_count": 6,
      "metadata": {
        "id": "4jfDH_l10F8v"
      },
      "outputs": [],
      "source": [
        "def make_weight_graph(n, k, H):\n",
        "    if k == 2:\n",
        "        return H\n",
        "    res = np.zeros((n, n))\n",
        "    for i in range(n):\n",
        "        for j in range(n):\n",
        "            res[i, j] = np.sum(H[i, j, :, :]) / 2 # since [i, j, k, l] and [i, j, l, k] are the same\n",
        "    return res"
      ]
    },
    {
      "cell_type": "code",
      "execution_count": 7,
      "metadata": {
        "id": "gmctF9XT0F8w"
      },
      "outputs": [],
      "source": [
        "def check_coefs(a, b, k):\n",
        "    if (np.sqrt(a) - np.sqrt(b)) ** 2 / 2 ** (k - 1) > 1:\n",
        "        print(\"These are alright\")\n",
        "    else:\n",
        "        print(\"These are NOT alright\")"
      ]
    },
    {
      "cell_type": "code",
      "execution_count": 8,
      "metadata": {
        "colab": {
          "base_uri": "https://localhost:8080/"
        },
        "id": "LSTnvyf80F8w",
        "outputId": "5de1bf0f-20b3-44b8-bcc0-9e44ca976126"
      },
      "outputs": [
        {
          "output_type": "stream",
          "name": "stdout",
          "text": [
            "These are alright\n"
          ]
        }
      ],
      "source": [
        "n = 100\n",
        "k = 2\n",
        "coef = np.log(n) / scipy.special.binom(n - 1, k - 1)\n",
        "a = 1\n",
        "b = 20\n",
        "check_coefs(a, b, k)"
      ]
    },
    {
      "cell_type": "code",
      "execution_count": 9,
      "metadata": {
        "id": "GXwEYvrL0F8x"
      },
      "outputs": [],
      "source": [
        "adj = generate_H_matrix(n, k, coef * a, coef * b)\n",
        "w = make_weight_graph(n, k, adj)\n",
        "#H = hnx.Hypergraph(edges)"
      ]
    },
    {
      "cell_type": "code",
      "execution_count": 10,
      "metadata": {
        "id": "T6ikUN_Q0F8x"
      },
      "outputs": [],
      "source": [
        "X = cp.Variable((n,n), symmetric=True)\n",
        "constraints = [X >> 0, cp.sum(X) == 0]\n",
        "constraints += [X[i, i] == 1 for i in range(n)]\n",
        "prob = cp.Problem(cp.Minimize(cp.trace(X @ w)), constraints)"
      ]
    },
    {
      "cell_type": "code",
      "execution_count": 11,
      "metadata": {
        "id": "nocUNZmN0F8x",
        "colab": {
          "base_uri": "https://localhost:8080/"
        },
        "outputId": "4c137dc6-fd89-41a9-ba6c-e2ab6330de31"
      },
      "outputs": [
        {
          "output_type": "stream",
          "name": "stdout",
          "text": [
            "----------------------------------------------------------------------------\n",
            "\tSCS v2.1.4 - Splitting Conic Solver\n",
            "\t(c) Brendan O'Donoghue, Stanford University, 2012\n",
            "----------------------------------------------------------------------------\n",
            "Lin-sys: sparse-direct, nnz in A = 10200\n",
            "eps = 1.00e-04, alpha = 1.50, max_iters = 5000, normalize = 1, scale = 1.00\n",
            "acceleration_lookback = 10, rho_x = 1.00e-03\n",
            "Variables n = 5050, constraints m = 5151\n",
            "Cones:\tprimal zero / dual free vars: 101\n",
            "\tsd vars: 5050, sd blks: 1\n",
            "Setup time: 2.18e-02s\n",
            "----------------------------------------------------------------------------\n",
            " Iter | pri res | dua res | rel gap | pri obj | dua obj | kap/tau | time (s)\n",
            "----------------------------------------------------------------------------\n",
            "     0| 3.27e+20  6.88e+20  1.00e+00 -1.57e+23  3.93e+23  1.10e+23  1.31e-02 \n",
            "    60| 2.71e-06  2.67e-06  9.41e-08 -4.45e+03 -4.45e+03  2.49e-14  5.86e-01 \n",
            "----------------------------------------------------------------------------\n",
            "Status: Solved\n",
            "Timing: Solve time: 5.86e-01s\n",
            "\tLin-sys: nnz in L factor: 25351, avg solve time: 1.67e-04s\n",
            "\tCones: avg projection time: 7.52e-03s\n",
            "\tAcceleration: avg step time: 1.53e-03s\n",
            "----------------------------------------------------------------------------\n",
            "Error metrics:\n",
            "dist(s, K) = 1.3536e-09, dist(y, K*) = 1.5455e-09, s'y/|s||y| = -1.0667e-13\n",
            "primal res: |Ax + s - b|_2 / (1 + |b|_2) = 2.7104e-06\n",
            "dual res:   |A'y + c|_2 / (1 + |c|_2) = 2.6661e-06\n",
            "rel gap:    |c'x + b'y| / (1 + |c'x| + |b'y|) = 9.4058e-08\n",
            "----------------------------------------------------------------------------\n",
            "c'x = -4450.0038, -b'y = -4450.0047\n",
            "============================================================================\n"
          ]
        },
        {
          "output_type": "execute_result",
          "data": {
            "text/plain": [
              "-4450.003834619309"
            ]
          },
          "metadata": {},
          "execution_count": 11
        }
      ],
      "source": [
        "prob.solve(verbose=True)"
      ]
    },
    {
      "cell_type": "code",
      "source": [
        "X.value[0, :]"
      ],
      "metadata": {
        "colab": {
          "base_uri": "https://localhost:8080/"
        },
        "id": "ReIoy-weHpFd",
        "outputId": "45a24794-4430-43dd-f502-3b3228728508"
      },
      "execution_count": 13,
      "outputs": [
        {
          "output_type": "execute_result",
          "data": {
            "text/plain": [
              "array([ 0.99999905,  0.9999979 ,  0.99999869,  0.99999947,  0.99999848,\n",
              "        0.99999995,  1.00000005,  0.99999792,  0.99999915,  1.00000617,\n",
              "        0.99999898,  0.99999918,  0.99999888,  1.00000416,  0.99999858,\n",
              "        0.99999835,  1.00000173,  0.99999782,  0.99999978,  1.00000041,\n",
              "        0.99999806,  0.99999959,  0.99999774,  0.99999865,  0.999999  ,\n",
              "        1.0000028 ,  0.99999939,  1.00000134,  1.00000292,  1.00000077,\n",
              "        0.99999765,  0.9999985 ,  0.99999874,  1.00000184,  1.00000068,\n",
              "        0.99999764,  0.99999972,  0.9999983 ,  0.99999806,  0.99999976,\n",
              "        0.99999905,  1.00000375,  0.9999985 ,  1.0000011 ,  1.00000061,\n",
              "        0.99999822,  0.99999123,  0.99999808,  0.99999918,  1.00000134,\n",
              "       -1.00000157, -0.99999762, -1.0000019 , -0.99999935, -0.99999948,\n",
              "       -0.99999772, -0.99999804, -0.99999827, -0.99999889, -1.00000096,\n",
              "       -1.00000047, -1.00000102, -1.00000282, -0.99999933, -0.9999997 ,\n",
              "       -0.99999911, -1.00000314, -0.9999996 , -0.99999737, -1.00000072,\n",
              "       -0.99999833, -0.99999847, -1.00000095, -0.9999974 , -1.00000126,\n",
              "       -0.99999237, -0.99999995, -0.99999931, -1.00000017, -0.99999821,\n",
              "       -0.99999908, -0.99999975, -1.0000006 , -0.99999988, -0.99999905,\n",
              "       -0.99999854, -1.00000013, -0.99999763, -1.00000038, -0.99999924,\n",
              "       -1.00000061, -1.00000071, -1.00000032, -1.00000028, -0.99999989,\n",
              "       -0.9999991 , -0.99999816, -0.99999944, -0.99999857, -0.99999791])"
            ]
          },
          "metadata": {},
          "execution_count": 13
        }
      ]
    },
    {
      "cell_type": "code",
      "execution_count": 20,
      "metadata": {
        "id": "_M_Vnddl0F8z",
        "colab": {
          "base_uri": "https://localhost:8080/"
        },
        "outputId": "bef44368-6b09-4970-c4ac-928a30f29313"
      },
      "outputs": [
        {
          "output_type": "stream",
          "name": "stdout",
          "text": [
            "For a = 1.000000 and b = 1.000000 accuracy is 0.530000\n",
            "For a = 1.000000 and b = 3.000000 accuracy is 0.720000\n",
            "For a = 1.000000 and b = 5.000000 accuracy is 1.000000\n",
            "For a = 1.000000 and b = 7.000000 accuracy is 1.000000\n",
            "For a = 1.000000 and b = 9.000000 accuracy is 1.000000\n",
            "For a = 1.000000 and b = 11.000000 accuracy is 1.000000\n",
            "For a = 1.000000 and b = 13.000000 accuracy is 1.000000\n",
            "For a = 1.000000 and b = 15.000000 accuracy is 1.000000\n",
            "For a = 1.000000 and b = 17.000000 accuracy is 1.000000\n",
            "For a = 1.000000 and b = 19.000000 accuracy is 1.000000\n",
            "For a = 3.000000 and b = 1.000000 accuracy is 0.540000\n",
            "For a = 3.000000 and b = 3.000000 accuracy is 0.500000\n",
            "For a = 3.000000 and b = 5.000000 accuracy is 0.540000\n",
            "For a = 3.000000 and b = 7.000000 accuracy is 0.970000\n",
            "For a = 3.000000 and b = 9.000000 accuracy is 1.000000\n",
            "For a = 3.000000 and b = 11.000000 accuracy is 1.000000\n",
            "For a = 3.000000 and b = 13.000000 accuracy is 1.000000\n",
            "For a = 3.000000 and b = 15.000000 accuracy is 1.000000\n",
            "For a = 3.000000 and b = 17.000000 accuracy is 1.000000\n",
            "For a = 3.000000 and b = 19.000000 accuracy is 1.000000\n",
            "For a = 5.000000 and b = 1.000000 accuracy is 0.500000\n",
            "For a = 5.000000 and b = 3.000000 accuracy is 0.550000\n",
            "For a = 5.000000 and b = 5.000000 accuracy is 0.570000\n",
            "For a = 5.000000 and b = 7.000000 accuracy is 0.540000\n",
            "For a = 5.000000 and b = 9.000000 accuracy is 0.980000\n",
            "For a = 5.000000 and b = 11.000000 accuracy is 1.000000\n",
            "For a = 5.000000 and b = 13.000000 accuracy is 1.000000\n",
            "For a = 5.000000 and b = 15.000000 accuracy is 1.000000\n",
            "For a = 5.000000 and b = 17.000000 accuracy is 1.000000\n",
            "For a = 5.000000 and b = 19.000000 accuracy is 1.000000\n",
            "For a = 7.000000 and b = 1.000000 accuracy is 0.510000\n",
            "For a = 7.000000 and b = 3.000000 accuracy is 0.530000\n",
            "For a = 7.000000 and b = 5.000000 accuracy is 0.520000\n",
            "For a = 7.000000 and b = 7.000000 accuracy is 0.510000\n",
            "For a = 7.000000 and b = 9.000000 accuracy is 0.660000\n",
            "For a = 7.000000 and b = 11.000000 accuracy is 0.920000\n",
            "For a = 7.000000 and b = 13.000000 accuracy is 1.000000\n",
            "For a = 7.000000 and b = 15.000000 accuracy is 1.000000\n",
            "For a = 7.000000 and b = 17.000000 accuracy is 1.000000\n",
            "For a = 7.000000 and b = 19.000000 accuracy is 1.000000\n",
            "For a = 9.000000 and b = 1.000000 accuracy is 0.550000\n",
            "For a = 9.000000 and b = 3.000000 accuracy is 0.500000\n",
            "For a = 9.000000 and b = 5.000000 accuracy is 0.560000\n",
            "For a = 9.000000 and b = 7.000000 accuracy is 0.500000\n",
            "For a = 9.000000 and b = 9.000000 accuracy is 0.520000\n",
            "For a = 9.000000 and b = 11.000000 accuracy is 0.620000\n",
            "For a = 9.000000 and b = 13.000000 accuracy is 0.910000\n",
            "For a = 9.000000 and b = 15.000000 accuracy is 1.000000\n",
            "For a = 9.000000 and b = 17.000000 accuracy is 1.000000\n",
            "For a = 9.000000 and b = 19.000000 accuracy is 1.000000\n",
            "For a = 11.000000 and b = 1.000000 accuracy is 0.530000\n",
            "For a = 11.000000 and b = 3.000000 accuracy is 0.530000\n",
            "For a = 11.000000 and b = 5.000000 accuracy is 0.520000\n",
            "For a = 11.000000 and b = 7.000000 accuracy is 0.510000\n",
            "For a = 11.000000 and b = 9.000000 accuracy is 0.530000\n",
            "For a = 11.000000 and b = 11.000000 accuracy is 0.600000\n",
            "For a = 11.000000 and b = 13.000000 accuracy is 0.540000\n",
            "For a = 11.000000 and b = 15.000000 accuracy is 0.860000\n",
            "For a = 11.000000 and b = 17.000000 accuracy is 1.000000\n",
            "For a = 11.000000 and b = 19.000000 accuracy is 1.000000\n",
            "For a = 13.000000 and b = 1.000000 accuracy is 0.510000\n",
            "For a = 13.000000 and b = 3.000000 accuracy is 0.500000\n",
            "For a = 13.000000 and b = 5.000000 accuracy is 0.510000\n",
            "For a = 13.000000 and b = 7.000000 accuracy is 0.540000\n",
            "For a = 13.000000 and b = 9.000000 accuracy is 0.540000\n",
            "For a = 13.000000 and b = 11.000000 accuracy is 0.500000\n",
            "For a = 13.000000 and b = 13.000000 accuracy is 0.520000\n",
            "For a = 13.000000 and b = 15.000000 accuracy is 0.500000\n",
            "For a = 13.000000 and b = 17.000000 accuracy is 0.920000\n",
            "For a = 13.000000 and b = 19.000000 accuracy is 1.000000\n",
            "For a = 15.000000 and b = 1.000000 accuracy is 0.510000\n",
            "For a = 15.000000 and b = 3.000000 accuracy is 0.500000\n",
            "For a = 15.000000 and b = 5.000000 accuracy is 0.510000\n",
            "For a = 15.000000 and b = 7.000000 accuracy is 0.530000\n",
            "For a = 15.000000 and b = 9.000000 accuracy is 0.560000\n",
            "For a = 15.000000 and b = 11.000000 accuracy is 0.500000\n",
            "For a = 15.000000 and b = 13.000000 accuracy is 0.570000\n",
            "For a = 15.000000 and b = 15.000000 accuracy is 0.510000\n",
            "For a = 15.000000 and b = 17.000000 accuracy is 0.570000\n",
            "For a = 15.000000 and b = 19.000000 accuracy is 1.000000\n",
            "For a = 17.000000 and b = 1.000000 accuracy is 0.520000\n",
            "For a = 17.000000 and b = 3.000000 accuracy is 0.520000\n",
            "For a = 17.000000 and b = 5.000000 accuracy is 0.550000\n",
            "For a = 17.000000 and b = 7.000000 accuracy is 0.540000\n",
            "For a = 17.000000 and b = 9.000000 accuracy is 0.510000\n",
            "For a = 17.000000 and b = 11.000000 accuracy is 0.510000\n",
            "For a = 17.000000 and b = 13.000000 accuracy is 0.500000\n",
            "For a = 17.000000 and b = 15.000000 accuracy is 0.570000\n",
            "For a = 17.000000 and b = 17.000000 accuracy is 0.550000\n",
            "For a = 17.000000 and b = 19.000000 accuracy is 0.510000\n",
            "For a = 19.000000 and b = 1.000000 accuracy is 0.520000\n",
            "For a = 19.000000 and b = 3.000000 accuracy is 0.520000\n",
            "For a = 19.000000 and b = 5.000000 accuracy is 0.540000\n",
            "For a = 19.000000 and b = 7.000000 accuracy is 0.520000\n",
            "For a = 19.000000 and b = 9.000000 accuracy is 0.510000\n",
            "For a = 19.000000 and b = 11.000000 accuracy is 0.520000\n",
            "For a = 19.000000 and b = 13.000000 accuracy is 0.510000\n",
            "For a = 19.000000 and b = 15.000000 accuracy is 0.510000\n",
            "For a = 19.000000 and b = 17.000000 accuracy is 0.500000\n",
            "For a = 19.000000 and b = 19.000000 accuracy is 0.520000\n"
          ]
        }
      ],
      "source": [
        "a_s = np.arange(1, 20, 2)\n",
        "b_s = np.arange(1, 20, 2)\n",
        "\n",
        "good_pairs = list()\n",
        "bad_pairs = list()\n",
        "for a in a_s:\n",
        "    for b in b_s:\n",
        "        n = 100\n",
        "        k = 2\n",
        "        coef = np.log(n) / scipy.special.binom(n - 1, k - 1)\n",
        "        #check_coefs(a, b, k)\n",
        "\n",
        "        adj = generate_H_matrix(n, k, coef * a, coef * b)\n",
        "        w = make_weight_graph(n, k, adj)\n",
        "\n",
        "        X = cp.Variable((n,n), symmetric=True)\n",
        "        constraints = [X >> 0, cp.sum(X) == 0]\n",
        "        constraints += [X[i, i] == 1 for i in range(n)]\n",
        "        prob = cp.Problem(cp.Minimize(cp.trace(X @ w)), constraints)\n",
        "        prob.solve()\n",
        "\n",
        "        goods = 0\n",
        "        for i in range(n // 2):\n",
        "            if X.value[0][i] < 0:\n",
        "                goods += 1\n",
        "        for i in range(n // 2, n):\n",
        "            if X.value[0][i] > 0:\n",
        "                goods += 1\n",
        "        acc = max(goods / n, 1 - goods / n)\n",
        "        if acc > 0.95:\n",
        "            good_pairs.append([a, b])\n",
        "        else:\n",
        "            bad_pairs.append([a, b])\n",
        "        print(\"For a = %f and b = %f accuracy is %f\" % (a, b, max(goods / n, 1 - goods / n)))\n",
        "                \n",
        "#H = hnx.Hypergraph(edges)"
      ]
    },
    {
      "cell_type": "code",
      "source": [
        "plt.plot(bad_a, bad_b, color='r', label='Bad pairs')\n",
        "plt.plot(good_a, good_b, color='g', label='Good pairs')\n",
        "plt.xlabel('a')\n",
        "plt.ylabel('b')\n",
        "\n",
        "plt.fill_between(np.arange(1, 20, 2), 2 + np.arange(1, 20, 2), step=\"pre\", alpha=0.25, color = 'r')\n",
        "plt.fill_betweenx(4 + np.arange(1, 20, 2), np.arange(1, 20, 2), step=\"pre\", alpha=0.25, color = 'g')\n",
        "\n",
        "\n",
        "\n",
        "plt.legend()\n",
        "plt.show()"
      ],
      "metadata": {
        "colab": {
          "base_uri": "https://localhost:8080/",
          "height": 279
        },
        "id": "4ogGbUmfLHFd",
        "outputId": "9dc78b0e-6d9d-483b-cc52-98030155f920"
      },
      "execution_count": 71,
      "outputs": [
        {
          "output_type": "display_data",
          "data": {
            "image/png": "[encoded data removed]",
            "text/plain": [
              "<Figure size 432x288 with 1 Axes>"
            ]
          },
          "metadata": {
            "needs_background": "light"
          }
        }
      ]
    },
    {
      "cell_type": "code",
      "source": [
        "good_sorted = good_pairs#sorted(good_pairs, key=lambda x: x[0] + x[1])\n",
        "bad_sorted = bad_pairs#sorted(bad_pairs, key=lambda x: x[0] + x[1])"
      ],
      "metadata": {
        "id": "--nkIq1eQ8Ux"
      },
      "execution_count": 35,
      "outputs": []
    },
    {
      "cell_type": "code",
      "source": [
        "good_a = [x[0] for x in good_sorted]\n",
        "good_b = [x[1] for x in good_sorted]\n",
        "\n",
        "bad_a = [x[0] for x in bad_sorted]\n",
        "bad_b = [x[1] for x in bad_sorted]"
      ],
      "metadata": {
        "id": "UDIREJoFRQ2P"
      },
      "execution_count": 47,
      "outputs": []
    },
    {
      "cell_type": "code",
      "source": [
        "a_s = np.arange(1, 40, 4)\n",
        "b_s = np.arange(1, 40, 4)\n",
        "\n",
        "good_pairs_4 = list()\n",
        "bad_pairs_4 = list()\n",
        "for a in a_s:\n",
        "    for b in b_s:\n",
        "        n = 50\n",
        "        k = 4\n",
        "        coef = np.log(n) / scipy.special.binom(n - 1, k - 1)\n",
        "        #check_coefs(a, b, k)\n",
        "\n",
        "        adj = generate_H_matrix(n, k, coef * a, coef * b)\n",
        "        w = make_weight_graph(n, k, adj)\n",
        "\n",
        "        X = cp.Variable((n,n), symmetric=True)\n",
        "        constraints = [X >> 0, cp.sum(X) == 0]\n",
        "        constraints += [X[i, i] == 1 for i in range(n)]\n",
        "        prob = cp.Problem(cp.Minimize(cp.trace(X @ w)), constraints)\n",
        "        prob.solve()\n",
        "\n",
        "        goods = 0\n",
        "        for i in range(n // 2):\n",
        "            if X.value[0][i] < 0:\n",
        "                goods += 1\n",
        "        for i in range(n // 2, n):\n",
        "            if X.value[0][i] > 0:\n",
        "                goods += 1\n",
        "        acc = max(goods / n, 1 - goods / n)\n",
        "        if acc > 0.95:\n",
        "            good_pairs_4.append([a, b])\n",
        "        else:\n",
        "            bad_pairs_4.append([a, b])\n",
        "        print(\"For a = %f and b = %f accuracy is %f\" % (a, b, max(goods / n, 1 - goods / n)))\n",
        "                \n",
        "#H = hnx.Hypergraph(edges)"
      ],
      "metadata": {
        "colab": {
          "base_uri": "https://localhost:8080/"
        },
        "id": "Ot-fgAYORzLY",
        "outputId": "74679e88-d405-4713-fc77-b0c31c1b2632"
      },
      "execution_count": 41,
      "outputs": [
        {
          "output_type": "stream",
          "name": "stdout",
          "text": [
            "For a = 1.000000 and b = 1.000000 accuracy is 0.580000\n",
            "For a = 1.000000 and b = 5.000000 accuracy is 0.720000\n",
            "For a = 1.000000 and b = 9.000000 accuracy is 0.840000\n",
            "For a = 1.000000 and b = 13.000000 accuracy is 0.880000\n",
            "For a = 1.000000 and b = 17.000000 accuracy is 0.960000\n",
            "For a = 1.000000 and b = 21.000000 accuracy is 0.980000\n",
            "For a = 1.000000 and b = 25.000000 accuracy is 1.000000\n",
            "For a = 1.000000 and b = 29.000000 accuracy is 1.000000\n",
            "For a = 1.000000 and b = 33.000000 accuracy is 1.000000\n",
            "For a = 1.000000 and b = 37.000000 accuracy is 1.000000\n",
            "For a = 5.000000 and b = 1.000000 accuracy is 0.600000\n",
            "For a = 5.000000 and b = 5.000000 accuracy is 0.580000\n",
            "For a = 5.000000 and b = 9.000000 accuracy is 0.620000\n",
            "For a = 5.000000 and b = 13.000000 accuracy is 0.600000\n",
            "For a = 5.000000 and b = 17.000000 accuracy is 0.820000\n",
            "For a = 5.000000 and b = 21.000000 accuracy is 0.660000\n",
            "For a = 5.000000 and b = 25.000000 accuracy is 0.960000\n",
            "For a = 5.000000 and b = 29.000000 accuracy is 0.880000\n",
            "For a = 5.000000 and b = 33.000000 accuracy is 0.980000\n",
            "For a = 5.000000 and b = 37.000000 accuracy is 1.000000\n",
            "For a = 9.000000 and b = 1.000000 accuracy is 0.540000\n",
            "For a = 9.000000 and b = 5.000000 accuracy is 0.520000\n",
            "For a = 9.000000 and b = 9.000000 accuracy is 0.560000\n",
            "For a = 9.000000 and b = 13.000000 accuracy is 0.540000\n",
            "For a = 9.000000 and b = 17.000000 accuracy is 0.540000\n",
            "For a = 9.000000 and b = 21.000000 accuracy is 0.660000\n",
            "For a = 9.000000 and b = 25.000000 accuracy is 0.660000\n",
            "For a = 9.000000 and b = 29.000000 accuracy is 0.500000\n",
            "For a = 9.000000 and b = 33.000000 accuracy is 1.000000\n",
            "For a = 9.000000 and b = 37.000000 accuracy is 0.980000\n",
            "For a = 13.000000 and b = 1.000000 accuracy is 0.540000\n",
            "For a = 13.000000 and b = 5.000000 accuracy is 0.540000\n",
            "For a = 13.000000 and b = 9.000000 accuracy is 0.560000\n",
            "For a = 13.000000 and b = 13.000000 accuracy is 0.560000\n",
            "For a = 13.000000 and b = 17.000000 accuracy is 0.540000\n",
            "For a = 13.000000 and b = 21.000000 accuracy is 0.500000\n",
            "For a = 13.000000 and b = 25.000000 accuracy is 0.640000\n",
            "For a = 13.000000 and b = 29.000000 accuracy is 0.720000\n",
            "For a = 13.000000 and b = 33.000000 accuracy is 0.920000\n",
            "For a = 13.000000 and b = 37.000000 accuracy is 0.620000\n",
            "For a = 17.000000 and b = 1.000000 accuracy is 0.520000\n",
            "For a = 17.000000 and b = 5.000000 accuracy is 0.520000\n",
            "For a = 17.000000 and b = 9.000000 accuracy is 0.540000\n",
            "For a = 17.000000 and b = 13.000000 accuracy is 0.500000\n",
            "For a = 17.000000 and b = 17.000000 accuracy is 0.520000\n",
            "For a = 17.000000 and b = 21.000000 accuracy is 0.520000\n",
            "For a = 17.000000 and b = 25.000000 accuracy is 0.540000\n",
            "For a = 17.000000 and b = 29.000000 accuracy is 0.700000\n",
            "For a = 17.000000 and b = 33.000000 accuracy is 0.900000\n",
            "For a = 17.000000 and b = 37.000000 accuracy is 0.920000\n",
            "For a = 21.000000 and b = 1.000000 accuracy is 0.540000\n",
            "For a = 21.000000 and b = 5.000000 accuracy is 0.540000\n",
            "For a = 21.000000 and b = 9.000000 accuracy is 0.520000\n",
            "For a = 21.000000 and b = 13.000000 accuracy is 0.500000\n",
            "For a = 21.000000 and b = 17.000000 accuracy is 0.500000\n",
            "For a = 21.000000 and b = 21.000000 accuracy is 0.520000\n",
            "For a = 21.000000 and b = 25.000000 accuracy is 0.620000\n",
            "For a = 21.000000 and b = 29.000000 accuracy is 0.520000\n",
            "For a = 21.000000 and b = 33.000000 accuracy is 0.700000\n",
            "For a = 21.000000 and b = 37.000000 accuracy is 0.740000\n",
            "For a = 25.000000 and b = 1.000000 accuracy is 0.560000\n",
            "For a = 25.000000 and b = 5.000000 accuracy is 0.520000\n",
            "For a = 25.000000 and b = 9.000000 accuracy is 0.500000\n",
            "For a = 25.000000 and b = 13.000000 accuracy is 0.560000\n",
            "For a = 25.000000 and b = 17.000000 accuracy is 0.580000\n",
            "For a = 25.000000 and b = 21.000000 accuracy is 0.540000\n",
            "For a = 25.000000 and b = 25.000000 accuracy is 0.560000\n",
            "For a = 25.000000 and b = 29.000000 accuracy is 0.520000\n",
            "For a = 25.000000 and b = 33.000000 accuracy is 0.680000\n",
            "For a = 25.000000 and b = 37.000000 accuracy is 0.800000\n",
            "For a = 29.000000 and b = 1.000000 accuracy is 0.540000\n",
            "For a = 29.000000 and b = 5.000000 accuracy is 0.520000\n",
            "For a = 29.000000 and b = 9.000000 accuracy is 0.500000\n",
            "For a = 29.000000 and b = 13.000000 accuracy is 0.520000\n",
            "For a = 29.000000 and b = 17.000000 accuracy is 0.520000\n",
            "For a = 29.000000 and b = 21.000000 accuracy is 0.580000\n",
            "For a = 29.000000 and b = 25.000000 accuracy is 0.520000\n",
            "For a = 29.000000 and b = 29.000000 accuracy is 0.540000\n",
            "For a = 29.000000 and b = 33.000000 accuracy is 0.540000\n",
            "For a = 29.000000 and b = 37.000000 accuracy is 0.560000\n",
            "For a = 33.000000 and b = 1.000000 accuracy is 0.520000\n",
            "For a = 33.000000 and b = 5.000000 accuracy is 0.560000\n",
            "For a = 33.000000 and b = 9.000000 accuracy is 0.540000\n",
            "For a = 33.000000 and b = 13.000000 accuracy is 0.500000\n",
            "For a = 33.000000 and b = 17.000000 accuracy is 0.500000\n",
            "For a = 33.000000 and b = 21.000000 accuracy is 0.500000\n",
            "For a = 33.000000 and b = 25.000000 accuracy is 0.520000\n",
            "For a = 33.000000 and b = 29.000000 accuracy is 0.540000\n",
            "For a = 33.000000 and b = 33.000000 accuracy is 0.520000\n",
            "For a = 33.000000 and b = 37.000000 accuracy is 0.520000\n",
            "For a = 37.000000 and b = 1.000000 accuracy is 0.580000\n",
            "For a = 37.000000 and b = 5.000000 accuracy is 0.520000\n",
            "For a = 37.000000 and b = 9.000000 accuracy is 0.500000\n",
            "For a = 37.000000 and b = 13.000000 accuracy is 0.540000\n",
            "For a = 37.000000 and b = 17.000000 accuracy is 0.540000\n",
            "For a = 37.000000 and b = 21.000000 accuracy is 0.520000\n",
            "For a = 37.000000 and b = 25.000000 accuracy is 0.520000\n",
            "For a = 37.000000 and b = 29.000000 accuracy is 0.580000\n",
            "For a = 37.000000 and b = 33.000000 accuracy is 0.520000\n",
            "For a = 37.000000 and b = 37.000000 accuracy is 0.540000\n"
          ]
        }
      ]
    },
    {
      "cell_type": "code",
      "source": [
        "plt.plot(bad_a, bad_b, color='r', label='Bad pairs')\n",
        "plt.plot(good_a, good_b, color='g', label='Good pairs')\n",
        "plt.xlabel('a')\n",
        "plt.ylabel('b')\n",
        "plt.fill_between(np.arange(1, 40, 4), 5 + np.sqrt(np.arange(1, 40, 4) * 50), step=\"pre\", alpha=0.25, color = 'r')\n",
        "plt.fill_betweenx(10 + np.sqrt(np.arange(1, 40, 4) * 45), np.arange(1, 40, 4), step=\"pre\", alpha=0.25, color = 'g')\n",
        "plt.legend()\n",
        "plt.show()"
      ],
      "metadata": {
        "colab": {
          "base_uri": "https://localhost:8080/",
          "height": 279
        },
        "id": "_od5ibCiSamf",
        "outputId": "1c653250-0abc-43c0-c6f4-30d644784b58"
      },
      "execution_count": 103,
      "outputs": [
        {
          "output_type": "display_data",
          "data": {
            "image/png": "[encoded data removed]",
            "text/plain": [
              "<Figure size 432x288 with 1 Axes>"
            ]
          },
          "metadata": {
            "needs_background": "light"
          }
        }
      ]
    },
    {
      "cell_type": "code",
      "source": [
        "good_a = [x[0] for x in good_pairs_4]\n",
        "good_b = [x[1] for x in good_pairs_4]\n",
        "\n",
        "bad_a = [x[0] for x in bad_pairs_4]\n",
        "bad_b = [x[1] for x in bad_pairs_4]"
      ],
      "metadata": {
        "id": "VQZy0KCsTVxZ"
      },
      "execution_count": 72,
      "outputs": []
    },
    {
      "cell_type": "code",
      "source": [
        ""
      ],
      "metadata": {
        "id": "6BSmCSw-U1nx"
      },
      "execution_count": null,
      "outputs": []
    }
  ],
  "metadata": {
    "kernelspec": {
      "display_name": "Python 3",
      "language": "python",
      "name": "python3"
    },
    "language_info": {
      "codemirror_mode": {
        "name": "ipython",
        "version": 3
      },
      "file_extension": ".py",
      "mimetype": "text/x-python",
      "name": "python",
      "nbconvert_exporter": "python",
      "pygments_lexer": "ipython3",
      "version": "3.8.2"
    },
    "varInspector": {
      "cols": {
        "lenName": 16,
        "lenType": 16,
        "lenVar": 40
      },
      "kernels_config": {
        "python": {
          "delete_cmd_postfix": "",
          "delete_cmd_prefix": "del ",
          "library": "var_list.py",
          "varRefreshCmd": "print(var_dic_list())"
        },
        "r": {
          "delete_cmd_postfix": ") ",
          "delete_cmd_prefix": "rm(",
          "library": "var_list.r",
          "varRefreshCmd": "cat(var_dic_list()) "
        }
      },
      "types_to_exclude": [
        "module",
        "function",
        "builtin_function_or_method",
        "instance",
        "_Feature"
      ],
      "window_display": false
    },
    "colab": {
      "name": "Goemans.ipynb",
      "provenance": [],
      "collapsed_sections": []
    }
  },
  "nbformat": 4,
  "nbformat_minor": 0
}